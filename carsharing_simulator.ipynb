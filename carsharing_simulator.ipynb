{
  "nbformat": 4,
  "nbformat_minor": 0,
  "metadata": {
    "kernelspec": {
      "display_name": "Python 3",
      "language": "python",
      "name": "python3"
    },
    "language_info": {
      "codemirror_mode": {
        "name": "ipython",
        "version": 3
      },
      "file_extension": ".py",
      "mimetype": "text/x-python",
      "name": "python",
      "nbconvert_exporter": "python",
      "pygments_lexer": "ipython3",
      "version": "3.8.2"
    },
    "colab": {
      "name": "carsharing_simulator.ipynb",
      "provenance": []
    }
  },
  "cells": [
    {
      "cell_type": "code",
      "metadata": {
        "id": "JLlbvFRixQP2",
        "colab_type": "code",
        "colab": {}
      },
      "source": [
        "import numpy as np\n",
        "import pandas as pd\n",
        "import requests\n",
        "import datetime\n",
        "from time import sleep\n",
        "from math import inf\n",
        "from datetime import timedelta"
      ],
      "execution_count": 0,
      "outputs": []
    },
    {
      "cell_type": "code",
      "metadata": {
        "id": "iXIzchU4xQQH",
        "colab_type": "code",
        "colab": {}
      },
      "source": [
        "np.random.seed(150)"
      ],
      "execution_count": 0,
      "outputs": []
    },
    {
      "cell_type": "code",
      "metadata": {
        "id": "baskTAYbxQQW",
        "colab_type": "code",
        "colab": {}
      },
      "source": [
        "data = pd.read_excel('Адреса.xlsx')"
      ],
      "execution_count": 0,
      "outputs": []
    },
    {
      "cell_type": "code",
      "metadata": {
        "id": "_2XDs6x9xQQf",
        "colab_type": "code",
        "colab": {}
      },
      "source": [
        "data = data.drop(columns = 'Unnamed: 0')"
      ],
      "execution_count": 0,
      "outputs": []
    },
    {
      "cell_type": "code",
      "metadata": {
        "id": "mh72q_lSwpvY",
        "colab_type": "code",
        "colab": {}
      },
      "source": [
        "data.head()"
      ],
      "execution_count": 0,
      "outputs": []
    },
    {
      "cell_type": "code",
      "metadata": {
        "id": "GdU0m0ULxQQo",
        "colab_type": "code",
        "colab": {}
      },
      "source": [
        "home = data[['Люди_0', 'Люди_1']].to_numpy()\n",
        "people_init = home"
      ],
      "execution_count": 0,
      "outputs": []
    },
    {
      "cell_type": "code",
      "metadata": {
        "id": "NCx-alTlxQQy",
        "colab_type": "code",
        "colab": {}
      },
      "source": [
        "not_young_age = data[(data['Возраст'] > 24)]"
      ],
      "execution_count": 0,
      "outputs": []
    },
    {
      "cell_type": "code",
      "metadata": {
        "id": "xp7oVaclxQQ7",
        "colab_type": "code",
        "colab": {}
      },
      "source": [
        "data.loc[(data['Возраст'] > 24)] = not_young_age"
      ],
      "execution_count": 0,
      "outputs": []
    },
    {
      "cell_type": "code",
      "metadata": {
        "id": "Oh3SugEFxQRD",
        "colab_type": "code",
        "colab": {}
      },
      "source": [
        "data.head()"
      ],
      "execution_count": 0,
      "outputs": []
    },
    {
      "cell_type": "code",
      "metadata": {
        "id": "5qAVseRYxQRM",
        "colab_type": "code",
        "colab": {}
      },
      "source": [
        "sample = np.random.choice(data.index, size = 700, replace = False)"
      ],
      "execution_count": 0,
      "outputs": []
    },
    {
      "cell_type": "code",
      "metadata": {
        "id": "h6LqNhYSxQRV",
        "colab_type": "code",
        "colab": {}
      },
      "source": [
        "data.loc[sample, ['Школы_0', \"Школы_1\"]] = np.nan"
      ],
      "execution_count": 0,
      "outputs": []
    },
    {
      "cell_type": "code",
      "metadata": {
        "id": "EBsXTxTqxQRd",
        "colab_type": "code",
        "colab": {}
      },
      "source": [
        "data[['Школы_0', \"Школы_0\"]].isna().sum()"
      ],
      "execution_count": 0,
      "outputs": []
    },
    {
      "cell_type": "code",
      "metadata": {
        "id": "nuRKQemgxQRm",
        "colab_type": "code",
        "colab": {}
      },
      "source": [
        "np.random.seed(149)"
      ],
      "execution_count": 0,
      "outputs": []
    },
    {
      "cell_type": "code",
      "metadata": {
        "id": "1qmvMG61xQRt",
        "colab_type": "code",
        "colab": {}
      },
      "source": [
        "sample = np.random.choice(data.index, size = 700, replace = False)"
      ],
      "execution_count": 0,
      "outputs": []
    },
    {
      "cell_type": "code",
      "metadata": {
        "id": "uYuIXSeNxQR0",
        "colab_type": "code",
        "colab": {}
      },
      "source": [
        "data.loc[sample, ['Культура_0', \"Культура_1\"]] = np.nan"
      ],
      "execution_count": 0,
      "outputs": []
    },
    {
      "cell_type": "code",
      "metadata": {
        "id": "UHZEGnKVxQR6",
        "colab_type": "code",
        "colab": {}
      },
      "source": [
        "home = data[['Люди_0', 'Люди_1']].to_numpy()\n",
        "carsharing_positions_for_now = data[['Люди_0', \"Люди_1\"]].to_numpy()"
      ],
      "execution_count": 0,
      "outputs": []
    },
    {
      "cell_type": "code",
      "metadata": {
        "id": "DXlkCEVvxQSB",
        "colab_type": "code",
        "colab": {}
      },
      "source": [
        "schools = data[['Школы_0', \"Школы_1\"]].to_numpy()\n",
        "shops = data[['Магазины_0', \"Магазины_1\"]].to_numpy()\n",
        "jobs = data[['Работа_0', \"Работа_1\"]].to_numpy()\n",
        "unis = data[['Университеты_0', 'Университеты_1']].to_numpy()\n",
        "culture = data[['Культура_0', \"Культура_1\"]].to_numpy()\n",
        "home = data[['Люди_0', 'Люди_1']].to_numpy()"
      ],
      "execution_count": 0,
      "outputs": []
    },
    {
      "cell_type": "code",
      "metadata": {
        "id": "1kscwAeYxQSH",
        "colab_type": "code",
        "colab": {}
      },
      "source": [
        "np.random.seed(148)"
      ],
      "execution_count": 0,
      "outputs": []
    },
    {
      "cell_type": "code",
      "metadata": {
        "id": "13ZBaU5ExQSM",
        "colab_type": "code",
        "colab": {}
      },
      "source": [
        "schools_time = []\n",
        "time = datetime.datetime(year = 2020, month = 5, day = 31, hour = 7, minute = 30)\n",
        "for i in range(1000):\n",
        "    delta = np.random.randint(0, 31)\n",
        "    school_time = time + datetime.timedelta(minutes = delta)\n",
        "    schools_time.append(school_time)"
      ],
      "execution_count": 0,
      "outputs": []
    },
    {
      "cell_type": "code",
      "metadata": {
        "id": "6AqM6HNTxQSS",
        "colab_type": "code",
        "colab": {}
      },
      "source": [
        "schools_time = np.array(schools_time)"
      ],
      "execution_count": 0,
      "outputs": []
    },
    {
      "cell_type": "code",
      "metadata": {
        "id": "KPigCoSsxQSX",
        "colab_type": "code",
        "colab": {}
      },
      "source": [
        "np.random.seed(147)"
      ],
      "execution_count": 0,
      "outputs": []
    },
    {
      "cell_type": "code",
      "metadata": {
        "id": "j9wjAssxxQSb",
        "colab_type": "code",
        "colab": {}
      },
      "source": [
        "jobs_start_time = []\n",
        "time = datetime.datetime(year = 2020, month = 5, day = 31, hour = 8, minute = 0)\n",
        "for i in range(1000):\n",
        "    delta = np.random.randint(0, 60)\n",
        "    jobs_time = time + datetime.timedelta(minutes = delta)\n",
        "    jobs_start_time.append(jobs_time)"
      ],
      "execution_count": 0,
      "outputs": []
    },
    {
      "cell_type": "code",
      "metadata": {
        "id": "jFTFpc1FxQSk",
        "colab_type": "code",
        "colab": {}
      },
      "source": [
        "jobs_start_time = np.array(jobs_start_time)"
      ],
      "execution_count": 0,
      "outputs": []
    },
    {
      "cell_type": "code",
      "metadata": {
        "id": "qEd2IWboxQSp",
        "colab_type": "code",
        "colab": {}
      },
      "source": [
        "np.random.seed(146)"
      ],
      "execution_count": 0,
      "outputs": []
    },
    {
      "cell_type": "code",
      "metadata": {
        "id": "b-DIOWj7xQSu",
        "colab_type": "code",
        "colab": {}
      },
      "source": [
        "jobs_end_time = []\n",
        "time = datetime.datetime(year = 2020, month = 5, day = 31, hour = 18, minute = 0)\n",
        "for i in range(1000):\n",
        "    delta = np.random.randint(0, 60)\n",
        "    jobs_time = time + datetime.timedelta(minutes = delta)\n",
        "    jobs_end_time.append(jobs_time)"
      ],
      "execution_count": 0,
      "outputs": []
    },
    {
      "cell_type": "code",
      "metadata": {
        "id": "GEp425F4xQS0",
        "colab_type": "code",
        "colab": {}
      },
      "source": [
        "jobs_end_time = np.array(jobs_end_time)"
      ],
      "execution_count": 0,
      "outputs": []
    },
    {
      "cell_type": "code",
      "metadata": {
        "id": "Me0x7NkpxQS5",
        "colab_type": "code",
        "colab": {}
      },
      "source": [
        "np.random.seed(145)"
      ],
      "execution_count": 0,
      "outputs": []
    },
    {
      "cell_type": "code",
      "metadata": {
        "id": "ZcshisSyxQS_",
        "colab_type": "code",
        "colab": {}
      },
      "source": [
        "unis_start_time = []\n",
        "time = datetime.datetime(year = 2020, month = 5, day = 31, hour = 8, minute = 0)\n",
        "for i in range(1000):\n",
        "    delta = np.random.randint(0, 60)\n",
        "    unis_time = time + datetime.timedelta(minutes = delta)\n",
        "    unis_start_time.append(unis_time)"
      ],
      "execution_count": 0,
      "outputs": []
    },
    {
      "cell_type": "code",
      "metadata": {
        "id": "l1dUiSIdxQTE",
        "colab_type": "code",
        "colab": {}
      },
      "source": [
        "unis_start_time = np.array(unis_start_time)"
      ],
      "execution_count": 0,
      "outputs": []
    },
    {
      "cell_type": "code",
      "metadata": {
        "id": "viXUl327xQTI",
        "colab_type": "code",
        "colab": {}
      },
      "source": [
        "np.random.seed(144)"
      ],
      "execution_count": 0,
      "outputs": []
    },
    {
      "cell_type": "code",
      "metadata": {
        "id": "SZXabZmDxQTN",
        "colab_type": "code",
        "colab": {}
      },
      "source": [
        "unis_end_time = []\n",
        "time = datetime.datetime(year = 2020, month = 5, day = 31, hour = 15, minute = 0)\n",
        "for i in range(1000):\n",
        "    delta = np.random.randint(0, 60)\n",
        "    unis_time = time + datetime.timedelta(minutes = delta)\n",
        "    unis_end_time.append(unis_time)"
      ],
      "execution_count": 0,
      "outputs": []
    },
    {
      "cell_type": "code",
      "metadata": {
        "id": "fBSJyAmpxQTR",
        "colab_type": "code",
        "colab": {}
      },
      "source": [
        "unis_end_time = np.array(unis_end_time)"
      ],
      "execution_count": 0,
      "outputs": []
    },
    {
      "cell_type": "code",
      "metadata": {
        "id": "1y9H8TZwxQTV",
        "colab_type": "code",
        "colab": {}
      },
      "source": [
        "np.random.seed(143)"
      ],
      "execution_count": 0,
      "outputs": []
    },
    {
      "cell_type": "code",
      "metadata": {
        "id": "3OKAyeccxQTa",
        "colab_type": "code",
        "colab": {}
      },
      "source": [
        "culture_start_time = []\n",
        "time = datetime.datetime(year = 2020, month = 5, day = 31, hour = 19, minute = 0)\n",
        "for i in range(1000):\n",
        "    delta = np.random.randint(0, 60)\n",
        "    culture_time = time + datetime.timedelta(minutes = delta)\n",
        "    culture_start_time.append(culture_time)"
      ],
      "execution_count": 0,
      "outputs": []
    },
    {
      "cell_type": "code",
      "metadata": {
        "id": "M2whb5mVxQTf",
        "colab_type": "code",
        "colab": {}
      },
      "source": [
        "culture_start_time = np.array(culture_start_time)"
      ],
      "execution_count": 0,
      "outputs": []
    },
    {
      "cell_type": "code",
      "metadata": {
        "id": "5Drnhl-fxQTk",
        "colab_type": "code",
        "colab": {}
      },
      "source": [
        "np.random.seed(143)"
      ],
      "execution_count": 0,
      "outputs": []
    },
    {
      "cell_type": "code",
      "metadata": {
        "id": "UqySgNTexQTs",
        "colab_type": "code",
        "colab": {}
      },
      "source": [
        "culture_end_time = []\n",
        "for i in range(1000):\n",
        "    delta = np.random.randint(0, 120)\n",
        "    culture_time = culture_start_time[i] + datetime.timedelta(minutes = delta)\n",
        "    culture_end_time.append(culture_time)"
      ],
      "execution_count": 0,
      "outputs": []
    },
    {
      "cell_type": "code",
      "metadata": {
        "id": "gqmMVrJWxQTw",
        "colab_type": "code",
        "colab": {}
      },
      "source": [
        "culture_end_time = np.array(culture_end_time)"
      ],
      "execution_count": 0,
      "outputs": []
    },
    {
      "cell_type": "code",
      "metadata": {
        "id": "p5N1i_y8xQT1",
        "colab_type": "code",
        "colab": {}
      },
      "source": [
        "busy_individual = np.zeros(1000, dtype = 'bool')\n",
        "individual_busy_time = np.zeros(1000)\n",
        "carsharing_busy_time = {}\n",
        "carsharing_position = {}\n",
        "carsharing_price_dict = {}\n",
        "working = np.zeros(1000, dtype = 'bool')\n",
        "studying = np.zeros(1000, dtype = 'bool')\n",
        "culturing = np.zeros(1000, dtype = 'bool')"
      ],
      "execution_count": 0,
      "outputs": []
    },
    {
      "cell_type": "code",
      "metadata": {
        "id": "Ra7-uvCGxQT5",
        "colab_type": "code",
        "colab": {}
      },
      "source": [
        "car_data = pd.read_excel('car_positions.xlsx')"
      ],
      "execution_count": 0,
      "outputs": []
    },
    {
      "cell_type": "code",
      "metadata": {
        "id": "7XOpIJhKxQT9",
        "colab_type": "code",
        "colab": {}
      },
      "source": [
        "car_data"
      ],
      "execution_count": 0,
      "outputs": []
    },
    {
      "cell_type": "code",
      "metadata": {
        "id": "n_v7xVpmxQUC",
        "colab_type": "code",
        "colab": {}
      },
      "source": [
        "for i in range(587):\n",
        "    carsharing_busy_time[i] = 0\n",
        "    price_alternatives_for_deli = [(8.205, 2.95), (9.82, 3.55)]\n",
        "    price_choise = np.random.randint(1)\n",
        "    carsharing_price_dict[i] = price_alternatives_for_deli[price_choise]\n",
        "    carsharing_position[i] = np.random.uniform(low = [55.7000, 37.5286], high = [55.7966, 37.7154])"
      ],
      "execution_count": 0,
      "outputs": []
    },
    {
      "cell_type": "code",
      "metadata": {
        "id": "wTHpUntOxQUG",
        "colab_type": "code",
        "colab": {}
      },
      "source": [
        "carsharing_position"
      ],
      "execution_count": 0,
      "outputs": []
    },
    {
      "cell_type": "code",
      "metadata": {
        "id": "ywiPUm2QxQUK",
        "colab_type": "code",
        "colab": {}
      },
      "source": [
        "for i in range(587, 587 + 1350):\n",
        "    price_alternatives_for_deli = [(8.205, 2.95), (9.82, 3.55)]\n",
        "    price_choise = np.random.randint(2)\n",
        "    carsharing_price_dict[i] = price_alternatives_for_deli[price_choise]\n",
        "    carsharing_position[i] = np.random.uniform(low = np.array([55.7495, 37.6611]), high = np.array([55.8722, 37.9021]))"
      ],
      "execution_count": 0,
      "outputs": []
    },
    {
      "cell_type": "code",
      "metadata": {
        "id": "mIMi6P41xQUO",
        "colab_type": "code",
        "colab": {}
      },
      "source": [
        "for j in range(587 + 1350, 587 + 1350 + 530):\n",
        "    price_alternatives_for_deli = [(8.205, 2.95), (9.82, 3.55)]\n",
        "    price_choise = np.random.randint(2)\n",
        "    carsharing_price_dict[i] = price_alternatives_for_deli[price_choise]\n",
        "    carsharing_position[i] = np.random.uniform(low = np.array([55.7939, 37.5780]), high = np.array([55.9215, 37.7271]))"
      ],
      "execution_count": 0,
      "outputs": []
    },
    {
      "cell_type": "code",
      "metadata": {
        "id": "JCjXPDESxQUS",
        "colab_type": "code",
        "colab": {}
      },
      "source": [
        "for i in range(587 + 1350 + 530, 587 + 1350 + 530 + 39):\n",
        "    price_alternatives_for_deli = [(8.205, 2.95), (9.82, 3.55)]\n",
        "    price_choise = np.random.randint(2)\n",
        "    carsharing_price_dict[i] = price_alternatives_for_deli[price_choise]\n",
        "    carsharing_position[i] = np.random.uniform(low = np.array([55.7833, 37.3837]), high = np.array([55.9103, 37.5815]))"
      ],
      "execution_count": 0,
      "outputs": []
    },
    {
      "cell_type": "code",
      "metadata": {
        "id": "uaQRgX0VxQUY",
        "colab_type": "code",
        "colab": {}
      },
      "source": [
        "# \t55.7391 \t37.3171\n",
        "#55.5795 \t37.6179 \n",
        "for i in range(587 + 1350 + 530 + 39, 587 + 1350 + 530 + 39 + 391):\n",
        "    price_alternatives_for_deli = [(8.205, 2.95), (9.82, 3.55)]\n",
        "    price_choise = np.random.randint(2)\n",
        "    carsharing_price_dict[i] = price_alternatives_for_deli[price_choise]\n",
        "    carsharing_position[i] = np.random.uniform(low = np.array([55.5795, 37.3171]), high = np.array([55.7391, 37.6179]))"
      ],
      "execution_count": 0,
      "outputs": []
    },
    {
      "cell_type": "code",
      "metadata": {
        "id": "1Clc1KNlxQUv",
        "colab_type": "code",
        "colab": {}
      },
      "source": [
        "for i in range(587 + 1350 + 530 + 39 + 391, 587 + 1350 + 530 + 39 + 391 + 160):\n",
        "    price_alternatives_for_deli = [(8.205, 2.95), (9.82, 3.55)]\n",
        "    price_choise = np.random.randint(2)\n",
        "    carsharing_price_dict[i] = price_alternatives_for_deli[price_choise]\n",
        "    carsharing_position[i] = np.random.uniform(low = np.array([55.7650, 37.4606]), high = np.array([55.8797, 37.5571]))"
      ],
      "execution_count": 0,
      "outputs": []
    },
    {
      "cell_type": "code",
      "metadata": {
        "id": "qJ_0Gj0MxQUy",
        "colab_type": "code",
        "colab": {}
      },
      "source": [
        "for i in range(587 + 1350 + 530 + 39 + 391 + 160, 587 + 1350 + 530 + 39 + 391 + 160 + 221):\n",
        "    price_alternatives_for_deli = [(8.205, 2.95), (9.82, 3.55)]\n",
        "    price_choise = np.random.randint(2)\n",
        "    carsharing_price_dict[i] = price_alternatives_for_deli[price_choise]\n",
        "    carsharing_position[i] = np.random.uniform(low = np.array([55.5665, 37.5925]), high = np.array([55.7194, 37.7271]))"
      ],
      "execution_count": 0,
      "outputs": []
    },
    {
      "cell_type": "code",
      "metadata": {
        "id": "be59UpsixQU2",
        "colab_type": "code",
        "colab": {}
      },
      "source": [
        "for i in range(587 + 1350 + 530 + 39 + 391 + 160 + 221, 587 + 1350 + 530 + 39 + 391 + 160 + 221 + 191):\n",
        "    price_alternatives_for_deli = [(8.205, 2.95), (9.82, 3.55)]\n",
        "    price_choise = np.random.randint(2)\n",
        "    carsharing_price_dict[i] = price_alternatives_for_deli[price_choise]\n",
        "    carsharing_position[i] = np.random.uniform(low = np.array([55.5857, 37.3837]), high = np.array([55.7302, 37.6192]))"
      ],
      "execution_count": 0,
      "outputs": []
    },
    {
      "cell_type": "code",
      "metadata": {
        "id": "rG93YaXtxQU6",
        "colab_type": "code",
        "colab": {}
      },
      "source": [
        "for i in range(587 + 1350 + 530 + 39 + 391 + 160 + 221 + 191, 587 + 1350 + 530 + 39 + 391 + 160 + 221 + 191 + 620):\n",
        "    price_alternatives_for_deli = [(8.205, 2.95), (9.82, 3.55)]\n",
        "    price_choise = np.random.randint(2)\n",
        "    carsharing_price_dict[i] = price_alternatives_for_deli[price_choise]\n",
        "    carsharing_position[i] = np.random.uniform(low = np.array([55.6012, 37.6577]), high = np.array([55.7719, 37.8403]))"
      ],
      "execution_count": 0,
      "outputs": []
    },
    {
      "cell_type": "code",
      "metadata": {
        "id": "dUM03OIzxQVA",
        "colab_type": "code",
        "colab": {}
      },
      "source": [
        "carsharing_brand = {}\n",
        "for i in range(587 + 1350 + 530 + 39 + 391 + 160 + 221 + 191 + 620):\n",
        "    carsharing_brand[i] = 'Deli'"
      ],
      "execution_count": 0,
      "outputs": []
    },
    {
      "cell_type": "markdown",
      "metadata": {
        "id": "8QLleeFFxQVD",
        "colab_type": "text"
      },
      "source": [
        "YouDrive"
      ]
    },
    {
      "cell_type": "code",
      "metadata": {
        "id": "jvSMNLENxQVE",
        "colab_type": "code",
        "colab": {}
      },
      "source": [
        "for i in range(4089, 4089 + 316):\n",
        "    carsharing_price_dict[i] = (11.66666667, 3.25)\n",
        "    carsharing_position[i] = np.random.uniform(low = [55.7000, 37.5286], high = [55.7966, 37.7154])"
      ],
      "execution_count": 0,
      "outputs": []
    },
    {
      "cell_type": "code",
      "metadata": {
        "id": "alHnTe2nxQVI",
        "colab_type": "code",
        "colab": {}
      },
      "source": [
        "for i in range(4089 + 316, 4089 + 316 + 615):\n",
        "    carsharing_price_dict[i] = (11.66666667, 3.25)\n",
        "    carsharing_position[i] = np.random.uniform(low = np.array([55.7495, 37.6611]), high = np.array([55.8722, 37.9021]))"
      ],
      "execution_count": 0,
      "outputs": []
    },
    {
      "cell_type": "code",
      "metadata": {
        "id": "_cEiS6omxQVL",
        "colab_type": "code",
        "colab": {}
      },
      "source": [
        "for i in range(4089 + 316 + 615, 4089 + 316 + 615 + 181):\n",
        "    carsharing_price_dict[i] = (11.66666667, 3.25)\n",
        "    carsharing_position[i] = np.random.uniform(low = np.array([55.7939, 37.5780]), high = np.array([55.9215, 37.7271]))"
      ],
      "execution_count": 0,
      "outputs": []
    },
    {
      "cell_type": "code",
      "metadata": {
        "id": "bFHWbe3HxQVO",
        "colab_type": "code",
        "colab": {}
      },
      "source": [
        "for i in range(4089 + 316 + 615 + 181, 4089 + 316 + 615 + 181 + 64):\n",
        "    carsharing_price_dict[i] = (11.66666667, 3.25)\n",
        "    carsharing_position[i] = np.random.uniform(low = np.array([55.7833, 37.3837]), high = np.array([55.9103, 37.5815]))"
      ],
      "execution_count": 0,
      "outputs": []
    },
    {
      "cell_type": "code",
      "metadata": {
        "id": "DlxtP7_sxQVU",
        "colab_type": "code",
        "colab": {}
      },
      "source": [
        "for i in range(4089 + 316 + 615 + 181 + 64, 4089 + 316 + 615 + 181 + 64 + 21):\n",
        "    carsharing_price_dict[i] = (11.66666667, 3.25)\n",
        "    carsharing_position[i] = np.random.uniform(low = np.array([55.7650, 37.4606]), high = np.array([55.8797, 37.5571]))"
      ],
      "execution_count": 0,
      "outputs": []
    },
    {
      "cell_type": "code",
      "metadata": {
        "id": "ueK_RewVxQVY",
        "colab_type": "code",
        "colab": {}
      },
      "source": [
        "for i in range(4089 + 316 + 615 + 181 + 64 + 21, 4089 + 316 + 615 + 181 + 64 + 21 + 238):\n",
        "    carsharing_price_dict[i] = (11.66666667, 3.25)\n",
        "    carsharing_position[i] = np.random.uniform(low = np.array([55.5795, 37.3171]), high = np.array([55.7391, 37.6179]))"
      ],
      "execution_count": 0,
      "outputs": []
    },
    {
      "cell_type": "code",
      "metadata": {
        "id": "nDuFyJknxQVa",
        "colab_type": "code",
        "colab": {}
      },
      "source": [
        "for i in range(4089 + 316 + 615 + 181 + 64 + 21 + 238, 4089 + 316 + 615 + 181 + 64 + 21 + 238 + 69):\n",
        "    carsharing_price_dict[i] = (11.66666667, 3.25)    \n",
        "    carsharing_position[i] = np.random.uniform(low = np.array([55.5857, 37.3837]), high = np.array([55.7302, 37.6192]))"
      ],
      "execution_count": 0,
      "outputs": []
    },
    {
      "cell_type": "code",
      "metadata": {
        "id": "7oarv1noxQVd",
        "colab_type": "code",
        "colab": {}
      },
      "source": [
        "for i in range(4089 + 316 + 615 + 181 + 64 + 21 + 238 + 69, 4089 + 316 + 615 + 181 + 64 + 21 + 238 + 69 + 88):\n",
        "    carsharing_price_dict[i] = (11.66666667, 3.25)\n",
        "    carsharing_position[i] = np.random.uniform(low = np.array([55.5665, 37.5925]), high = np.array([55.7194, 37.7271]))"
      ],
      "execution_count": 0,
      "outputs": []
    },
    {
      "cell_type": "code",
      "metadata": {
        "id": "WDXnmIClxQVh",
        "colab_type": "code",
        "colab": {}
      },
      "source": [
        "for i in range(4089 + 316 + 615 + 181 + 64 + 21 + 238 + 69 + 88, 4089 + 316 + 615 + 181 + 64 + 21 + 238 + 69 + 88 + 126):\n",
        "    carsharing_price_dict[i] = (11.66666667, 3.25)    \n",
        "    carsharing_position[i] = np.random.uniform(low = np.array([55.6012, 37.6577]), high = np.array([55.7719, 37.8403]))"
      ],
      "execution_count": 0,
      "outputs": []
    },
    {
      "cell_type": "code",
      "metadata": {
        "id": "nRZMkGzbxQVj",
        "colab_type": "code",
        "colab": {}
      },
      "source": [
        "for i in range(4089, 4089 + 316 + 615 + 181 + 64 + 21 + 238 + 69 + 88 + 126):\n",
        "    carsharing_brand[i] = 'You'"
      ],
      "execution_count": 0,
      "outputs": []
    },
    {
      "cell_type": "code",
      "metadata": {
        "id": "7y8j7JZcxQVm",
        "colab_type": "code",
        "colab": {}
      },
      "source": [
        "4089 + 316 + 615 + 181 + 64 + 21 + 238 + 69 + 88 + 126"
      ],
      "execution_count": 0,
      "outputs": []
    },
    {
      "cell_type": "markdown",
      "metadata": {
        "id": "h1B98tkxxQVu",
        "colab_type": "text"
      },
      "source": [
        "Rentmee"
      ]
    },
    {
      "cell_type": "code",
      "metadata": {
        "id": "zoZUreetxQVu",
        "colab_type": "code",
        "colab": {}
      },
      "source": [
        "for i in range(5807, 5807 + 3):\n",
        "    carsharing_price_dict[i] = (6, 0)\n",
        "    carsharing_position[i] = np.random.uniform(low = [55.7000, 37.5286], high = [55.7966, 37.7154])"
      ],
      "execution_count": 0,
      "outputs": []
    },
    {
      "cell_type": "code",
      "metadata": {
        "id": "XZPDqcV5xQVy",
        "colab_type": "code",
        "colab": {}
      },
      "source": [
        "for i in range(5807 + 3, 5807 + 3 + 18):\n",
        "    carsharing_price_dict[i] = (11.66666667, 3.25)\n",
        "    carsharing_position[i] = np.random.uniform(low = np.array([55.7495, 37.6611]), high = np.array([55.8722, 37.9021]))"
      ],
      "execution_count": 0,
      "outputs": []
    },
    {
      "cell_type": "code",
      "metadata": {
        "id": "MVnBnjoHxQV2",
        "colab_type": "code",
        "colab": {}
      },
      "source": [
        "for i in range(5807 + 3 + 18, 5807 + 3 + 18 + 9):\n",
        "    carsharing_price_dict[i] = (6, 0)\n",
        "    carsharing_position[i] = np.random.uniform(low = np.array([55.7939, 37.5780]), high = np.array([55.9215, 37.7271]))"
      ],
      "execution_count": 0,
      "outputs": []
    },
    {
      "cell_type": "code",
      "metadata": {
        "id": "UFphJAUVxQV4",
        "colab_type": "code",
        "colab": {}
      },
      "source": [
        "for i in range(5807 + 3 + 18 + 9, 5807 + 3 + 18 + 9 + 4):\n",
        "    carsharing_price_dict[i] = (6, 0)\n",
        "    carsharing_position[i] = np.random.uniform(low = np.array([55.7833, 37.3837]), high = np.array([55.9103, 37.5815]))"
      ],
      "execution_count": 0,
      "outputs": []
    },
    {
      "cell_type": "code",
      "metadata": {
        "id": "Wg3SrDJcxQV7",
        "colab_type": "code",
        "colab": {}
      },
      "source": [
        "for i in range(5807 + 3 + 18 + 9 + 4, 5807 + 3 + 18 + 9 + 4 + 15):\n",
        "    carsharing_price_dict[i] = (6, 0)\n",
        "    carsharing_position[i] = np.random.uniform(low = np.array([55.5795, 37.3171]), high = np.array([55.7391, 37.6179]))"
      ],
      "execution_count": 0,
      "outputs": []
    },
    {
      "cell_type": "code",
      "metadata": {
        "id": "8QxEkHm2xQV_",
        "colab_type": "code",
        "colab": {}
      },
      "source": [
        "for i in range(5807 + 3 + 18 + 9 + 4 + 15, 5807 + 3 + 18 + 9 + 4 + 15 + 6):\n",
        "    carsharing_price_dict[i] = (6, 0)\n",
        "    carsharing_position[i] = np.random.uniform(low = np.array([55.5857, 37.3837]), high = np.array([55.7302, 37.6192]))"
      ],
      "execution_count": 0,
      "outputs": []
    },
    {
      "cell_type": "code",
      "metadata": {
        "id": "77F-MK8HxQWD",
        "colab_type": "code",
        "colab": {}
      },
      "source": [
        "for i in range(5807 + 3 + 18 + 9 + 4 + 15 + 6, 5807 + 3 + 18 + 9 + 4 + 15 + 6 + 26):\n",
        "    carsharing_price_dict[i] = (6, 0)\n",
        "    carsharing_position[i] = np.random.uniform(low = np.array([55.5665, 37.5925]), high = np.array([55.7194, 37.7271]))"
      ],
      "execution_count": 0,
      "outputs": []
    },
    {
      "cell_type": "code",
      "metadata": {
        "id": "GCk8obmJxQWF",
        "colab_type": "code",
        "colab": {}
      },
      "source": [
        "for i in range(5807 + 3 + 18 + 9 + 4 + 15 + 6 + 26, 5807 + 3 + 18 + 9 + 4 + 15 + 6 + 26 + 22):\n",
        "    carsharing_price_dict[i] = (6, 0)\n",
        "    carsharing_position[i] = np.random.uniform(low = np.array([55.6012, 37.6577]), high = np.array([55.7719, 37.8403]))"
      ],
      "execution_count": 0,
      "outputs": []
    },
    {
      "cell_type": "code",
      "metadata": {
        "id": "uUEPdVVoxQWL",
        "colab_type": "code",
        "colab": {}
      },
      "source": [
        "5807 + 3 + 18 + 9 + 4 + 15 + 6 + 26 + 22"
      ],
      "execution_count": 0,
      "outputs": []
    },
    {
      "cell_type": "code",
      "metadata": {
        "id": "VCzOHVfxxQWS",
        "colab_type": "code",
        "colab": {}
      },
      "source": [
        "for i in range(5807, 5910):\n",
        "    carsharing_brand[i] = 'rentmee'"
      ],
      "execution_count": 0,
      "outputs": []
    },
    {
      "cell_type": "markdown",
      "metadata": {
        "id": "ewO-mGxxxQWU",
        "colab_type": "text"
      },
      "source": [
        "Matreshcar"
      ]
    },
    {
      "cell_type": "code",
      "metadata": {
        "id": "MKP2UCDuxQWV",
        "colab_type": "code",
        "colab": {}
      },
      "source": [
        "for i in range(5910, 5910 + 1):\n",
        "    carsharing_price_dict[i] = (12.1, 3)\n",
        "    carsharing_position[i] = np.random.uniform(low = [55.7000, 37.5286], high = [55.7966, 37.7154])"
      ],
      "execution_count": 0,
      "outputs": []
    },
    {
      "cell_type": "code",
      "metadata": {
        "id": "7JzM_YGbxQWY",
        "colab_type": "code",
        "colab": {}
      },
      "source": [
        "for i in range(5910 + 1, 5910 + 1 + 4):\n",
        "    carsharing_price_dict[i] = (12.1, 3)\n",
        "    carsharing_position[i] = np.random.uniform(low = np.array([55.7495, 37.6611]), high = np.array([55.8722, 37.9021]))"
      ],
      "execution_count": 0,
      "outputs": []
    },
    {
      "cell_type": "code",
      "metadata": {
        "id": "damfuUe4xQWb",
        "colab_type": "code",
        "colab": {}
      },
      "source": [
        "for i in range(5910 + 1 + 4, 5910 + 1 + 4 + 4):\n",
        "    carsharing_price_dict[i] = (12.1, 3)\n",
        "    carsharing_position[i] = np.random.uniform(low = np.array([55.7939, 37.5780]), high = np.array([55.9215, 37.7271]))"
      ],
      "execution_count": 0,
      "outputs": []
    },
    {
      "cell_type": "code",
      "metadata": {
        "id": "VD3WwUGOxQWe",
        "colab_type": "code",
        "colab": {}
      },
      "source": [
        "for i in range(5910 + 1 + 4 + 4, 5910 + 1 + 4 + 4 + 1):\n",
        "    carsharing_price_dict[i] = (12.1, 3)\n",
        "    carsharing_position[i] = np.random.uniform(low = np.array([55.5795, 37.3171]), high = np.array([55.7391, 37.6179]))"
      ],
      "execution_count": 0,
      "outputs": []
    },
    {
      "cell_type": "code",
      "metadata": {
        "id": "IwiSu8hWxQWg",
        "colab_type": "code",
        "colab": {}
      },
      "source": [
        "for i in range(5910 + 1 + 4 + 4 + 1, 5910 + 1 + 4 + 4 + 1 + 2):\n",
        "    carsharing_price_dict[i] = (12.1, 3)\n",
        "    carsharing_position[i] = np.random.uniform(low = np.array([55.5665, 37.5925]), high = np.array([55.7194, 37.7271]))"
      ],
      "execution_count": 0,
      "outputs": []
    },
    {
      "cell_type": "code",
      "metadata": {
        "id": "d7keBAC5xQWk",
        "colab_type": "code",
        "colab": {}
      },
      "source": [
        "for i in range(5910 + 1 + 4 + 4 + 1 + 2, 5910 + 1 + 4 + 4 + 1 + 2 + 1):\n",
        "    carsharing_price_dict[i] = (6, 0)\n",
        "    carsharing_position[i] = np.random.uniform(low = np.array([55.6012, 37.6577]), high = np.array([55.7719, 37.8403]))"
      ],
      "execution_count": 0,
      "outputs": []
    },
    {
      "cell_type": "code",
      "metadata": {
        "id": "VZd20s3vxQWn",
        "colab_type": "code",
        "colab": {}
      },
      "source": [
        "5910 + 1 + 4 + 4 + 1 + 2 + 1"
      ],
      "execution_count": 0,
      "outputs": []
    },
    {
      "cell_type": "code",
      "metadata": {
        "id": "SLF3QVD_xQWr",
        "colab_type": "code",
        "colab": {}
      },
      "source": [
        "for i in range(5910, 5923):\n",
        "    carsharing_brand[i] = 'matresh'"
      ],
      "execution_count": 0,
      "outputs": []
    },
    {
      "cell_type": "markdown",
      "metadata": {
        "id": "EB51qO1gxQWu",
        "colab_type": "text"
      },
      "source": [
        "Яндекс Драйв"
      ]
    },
    {
      "cell_type": "code",
      "metadata": {
        "id": "F2ZK9tgDxQWu",
        "colab_type": "code",
        "colab": {}
      },
      "source": [
        "for i in range(5923, 5923 + 587):\n",
        "    carsharing_price_dict[i] = (5, 1.9)\n",
        "    carsharing_position[i] = np.random.uniform(low = [55.7000, 37.5286], high = [55.7966, 37.7154])"
      ],
      "execution_count": 0,
      "outputs": []
    },
    {
      "cell_type": "code",
      "metadata": {
        "id": "bYEdSNnmxQWy",
        "colab_type": "code",
        "colab": {}
      },
      "source": [
        "for i in range(5923 + 587, 5923 + 587 + 1350):\n",
        "    carsharing_price_dict[i] = (5, 1.9)\n",
        "    carsharing_position[i] = np.random.uniform(low = np.array([55.7495, 37.6611]), high = np.array([55.8722, 37.9021]))"
      ],
      "execution_count": 0,
      "outputs": []
    },
    {
      "cell_type": "code",
      "metadata": {
        "id": "7wJ1R-X3xQW1",
        "colab_type": "code",
        "colab": {}
      },
      "source": [
        "for i in range(5923 + 587 + 1350, 5923 + 587 + 1350 + 530):\n",
        "    carsharing_price_dict[i] = (5, 1.9)\n",
        "    carsharing_position[i] = np.random.uniform(low = np.array([55.7939, 37.5780]), high = np.array([55.9215, 37.7271]))"
      ],
      "execution_count": 0,
      "outputs": []
    },
    {
      "cell_type": "code",
      "metadata": {
        "id": "z6LmHq02xQW4",
        "colab_type": "code",
        "colab": {}
      },
      "source": [
        "for i in range(5923 + 587 + 1350 + 530, 5923 + 587 + 1350 + 530 + 39):\n",
        "    carsharing_price_dict[i] = (5, 1.9)\n",
        "    carsharing_position[i] = np.random.uniform(low = np.array([55.7833, 37.3837]), high = np.array([55.9103, 37.5815]))"
      ],
      "execution_count": 0,
      "outputs": []
    },
    {
      "cell_type": "code",
      "metadata": {
        "id": "_qpaRM7BxQW7",
        "colab_type": "code",
        "colab": {}
      },
      "source": [
        "for i in range(5923 + 587 + 1350 + 530 + 39, 5923 + 587 + 1350 + 530 + 39 + 160):\n",
        "    carsharing_price_dict[i] = (5, 1.9)\n",
        "    carsharing_position[i] = np.random.uniform(low = np.array([55.5795, 37.3171]), high = np.array([55.7391, 37.6179]))"
      ],
      "execution_count": 0,
      "outputs": []
    },
    {
      "cell_type": "code",
      "metadata": {
        "id": "zKlCSNbFxQW-",
        "colab_type": "code",
        "colab": {}
      },
      "source": [
        "for i in range(5923 + 587 + 1350 + 530 + 39 + 160, 5923 + 587 + 1350 + 530 + 39 + 160 + 391):\n",
        "    carsharing_price_dict[i] = (5, 1.9)\n",
        "    carsharing_position[i] = np.random.uniform(low = np.array([55.5857, 37.3837]), high = np.array([55.7302, 37.6192]))"
      ],
      "execution_count": 0,
      "outputs": []
    },
    {
      "cell_type": "code",
      "metadata": {
        "id": "BJ15YgjsxQXB",
        "colab_type": "code",
        "colab": {}
      },
      "source": [
        "for i in range(5923 + 587 + 1350 + 530 + 39 + 160 + 391, 5923 + 587 + 1350 + 530 + 39 + 160 + 391 + 191):\n",
        "    carsharing_price_dict[i] = (5, 1.9)\n",
        "    carsharing_position[i] = np.random.uniform(low = np.array([55.5665, 37.5925]), high = np.array([55.7194, 37.7271]))"
      ],
      "execution_count": 0,
      "outputs": []
    },
    {
      "cell_type": "code",
      "metadata": {
        "id": "8Owbpjw8xQXE",
        "colab_type": "code",
        "colab": {}
      },
      "source": [
        "for i in range(5923 + 587 + 1350 + 530 + 39 + 160 + 391 + 191, 5923 + 587 + 1350 + 530 + 39 + 160 + 391 + 191 + 221):\n",
        "    carsharing_price_dict[i] = (5, 1.9)\n",
        "    carsharing_position[i] = np.random.uniform(low = np.array([55.5665, 37.5925]), high = np.array([55.7194, 37.7271]))"
      ],
      "execution_count": 0,
      "outputs": []
    },
    {
      "cell_type": "code",
      "metadata": {
        "id": "YI4lhR1vxQXG",
        "colab_type": "code",
        "colab": {}
      },
      "source": [
        "for i in range(5923 + 587 + 1350 + 530 + 39 + 160 + 391 + 191 + 221, 5923 + 587 + 1350 + 530 + 39 + 160 + 391 + 191 + 221 + 620):\n",
        "    carsharing_price_dict[i] = (5, 1.9)\n",
        "    carsharing_position[i] = np.random.uniform(low = np.array([55.6012, 37.6577]), high = np.array([55.7719, 37.8403]))"
      ],
      "execution_count": 0,
      "outputs": []
    },
    {
      "cell_type": "code",
      "metadata": {
        "id": "K_6vLedXxQXJ",
        "colab_type": "code",
        "colab": {}
      },
      "source": [
        "5923 + 587 + 1350 + 530 + 39 + 160 + 391 + 191 + 221 + 620"
      ],
      "execution_count": 0,
      "outputs": []
    },
    {
      "cell_type": "code",
      "metadata": {
        "id": "6ZREhBLJxQXV",
        "colab_type": "code",
        "colab": {}
      },
      "source": [
        "for i in range(5923, 10012):\n",
        "    carsharing_brand[i] = 'Yandex'"
      ],
      "execution_count": 0,
      "outputs": []
    },
    {
      "cell_type": "markdown",
      "metadata": {
        "id": "QNNGm4rbxQXZ",
        "colab_type": "text"
      },
      "source": [
        "Belka Car"
      ]
    },
    {
      "cell_type": "code",
      "metadata": {
        "id": "hU8B9IhaxQXa",
        "colab_type": "code",
        "colab": {}
      },
      "source": [
        "for i in range(10012, 10012 + 596):\n",
        "    carsharing_price_dict[i] = (7, 3.25)\n",
        "    carsharing_position[i] = np.random.uniform(low = [55.7000, 37.5286], high = [55.7966, 37.7154])"
      ],
      "execution_count": 0,
      "outputs": []
    },
    {
      "cell_type": "code",
      "metadata": {
        "id": "Dgn3NCgixQXc",
        "colab_type": "code",
        "colab": {}
      },
      "source": [
        "for i in range(10012 + 596, 10012 + 596 + 1350):\n",
        "    carsharing_price_dict[i] = (7, 3.25)\n",
        "    carsharing_position[i] = np.random.uniform(low = np.array([55.7495, 37.6611]), high = np.array([55.8722, 37.9021]))"
      ],
      "execution_count": 0,
      "outputs": []
    },
    {
      "cell_type": "code",
      "metadata": {
        "id": "e0H-bT4dxQXf",
        "colab_type": "code",
        "colab": {}
      },
      "source": [
        "for i in range(10012 + 596 + 1350, 10012 + 596 + 1350 + 473):\n",
        "    carsharing_price_dict[i] = (7, 3.25)\n",
        "    carsharing_position[i] = np.random.uniform(low = np.array([55.7939, 37.5780]), high = np.array([55.9215, 37.7271]))"
      ],
      "execution_count": 0,
      "outputs": []
    },
    {
      "cell_type": "code",
      "metadata": {
        "id": "dviG9s8zxQXi",
        "colab_type": "code",
        "colab": {}
      },
      "source": [
        "for i in range(10012 + 596 + 1350 + 473, 10012 + 596 + 1350 + 473 + 39):\n",
        "    carsharing_price_dict[i] = (7, 3.25)\n",
        "    carsharing_position[i] = np.random.uniform(low = np.array([55.7939, 37.5780]), high = np.array([55.9215, 37.7271]))"
      ],
      "execution_count": 0,
      "outputs": []
    },
    {
      "cell_type": "code",
      "metadata": {
        "id": "qq5wxsDWxQXl",
        "colab_type": "code",
        "colab": {}
      },
      "source": [
        "for i in range(10012 + 596 + 1350 + 473 + 39, 10012 + 596 + 1350 + 473 + 39 + 160):\n",
        "    carsharing_price_dict[i] = (7, 3.25)\n",
        "    carsharing_position[i] = np.random.uniform(low = np.array([55.7833, 37.3837]), high = np.array([55.9103, 37.5815]))"
      ],
      "execution_count": 0,
      "outputs": []
    },
    {
      "cell_type": "code",
      "metadata": {
        "id": "kV2rDvDCxQXo",
        "colab_type": "code",
        "colab": {}
      },
      "source": [
        "for i in range(10012 + 596 + 1350 + 473 + 39 + 160, 10012 + 596 + 1350 + 473 + 39 + 160 + 391):\n",
        "    carsharing_price_dict[i] = (7, 3.25)\n",
        "    carsharing_position[i] = np.random.uniform(low = np.array([55.5795, 37.3171]), high = np.array([55.7391, 37.6179]))"
      ],
      "execution_count": 0,
      "outputs": []
    },
    {
      "cell_type": "code",
      "metadata": {
        "id": "74HLPmG4xQXr",
        "colab_type": "code",
        "colab": {}
      },
      "source": [
        "for i in range(10012 + 596 + 1350 + 473 + 39 + 160 + 391, 10012 + 596 + 1350 + 473 + 39 + 160 + 391 + 191):\n",
        "    carsharing_price_dict[i] = (7, 3.25)\n",
        "    carsharing_position[i] = np.random.uniform(low = np.array([55.5665, 37.5925]), high = np.array([55.7194, 37.7271]))"
      ],
      "execution_count": 0,
      "outputs": []
    },
    {
      "cell_type": "code",
      "metadata": {
        "id": "vO55H3JVxQXt",
        "colab_type": "code",
        "colab": {}
      },
      "source": [
        "for i in range(10012 + 596 + 1350 + 473 + 39 + 160 + 391 + 191, 10012 + 596 + 1350 + 473 + 39 + 160 + 391 + 191 + 221):\n",
        "    carsharing_price_dict[i] = (7, 3.25)\n",
        "    carsharing_position[i] = np.random.uniform(low = np.array([55.5665, 37.5925]), high = np.array([55.7194, 37.7271]))"
      ],
      "execution_count": 0,
      "outputs": []
    },
    {
      "cell_type": "code",
      "metadata": {
        "id": "Wmk8JXEfxQXx",
        "colab_type": "code",
        "colab": {}
      },
      "source": [
        "for i in range(10012 + 596 + 1350 + 473 + 39 + 160 + 391 + 191 + 221, 10012 + 596 + 1350 + 473 + 39 + 160 + 391 + 191 + 221 + 620):\n",
        "    carsharing_price_dict[i] = (7, 3.25)\n",
        "    carsharing_position[i] = np.random.uniform(low = np.array([55.6012, 37.6577]), high = np.array([55.7719, 37.8403]))"
      ],
      "execution_count": 0,
      "outputs": []
    },
    {
      "cell_type": "code",
      "metadata": {
        "id": "5jbtmW0fxQX0",
        "colab_type": "code",
        "colab": {}
      },
      "source": [
        "for i in range(10012, 10012 + 596 + 1350 + 473 + 39 + 160 + 391 + 191 + 221 + 620):\n",
        "    carsharing_brand[i] = 'Belka'"
      ],
      "execution_count": 0,
      "outputs": []
    },
    {
      "cell_type": "code",
      "metadata": {
        "id": "njbq3I8gV58k",
        "colab_type": "code",
        "colab": {}
      },
      "source": [
        "carsharing_position[4000]"
      ],
      "execution_count": 0,
      "outputs": []
    },
    {
      "cell_type": "code",
      "metadata": {
        "id": "c1cAA61XxQX3",
        "colab_type": "code",
        "colab": {}
      },
      "source": [
        "busy_carsharing = {}\n",
        "carsharing_busy_time = {}\n",
        "for key in carsharing_price_dict:\n",
        "    busy_carsharing[key] = False\n",
        "    carsharing_busy_time[key] = 0"
      ],
      "execution_count": 0,
      "outputs": []
    },
    {
      "cell_type": "code",
      "metadata": {
        "id": "BS3AYJC1xQX5",
        "colab_type": "code",
        "colab": {}
      },
      "source": [
        "import selenium\n",
        "from selenium import webdriver"
      ],
      "execution_count": 0,
      "outputs": []
    },
    {
      "cell_type": "code",
      "metadata": {
        "id": "rA1wXa0CxQX8",
        "colab_type": "code",
        "colab": {}
      },
      "source": [
        "class optimization():\n",
        "    def __init__(self):\n",
        "        chrome_options = webdriver.ChromeOptions()\n",
        "        chrome_options.add_argument('--headless')\n",
        "        chrome_options.add_argument('--no-sandbox')\n",
        "        chrome_options.add_argument('--disable-dev-shm-usage')\n",
        "        self.driver = webdriver.Chrome('chromedriver',chrome_options=chrome_options)\n",
        "    def optimization(self, start, end):\n",
        "        distance_drive = 0\n",
        "        self.utility_list = {'driving':[0,0], 'walking': 0, 'public': [0, 0, 0, 0, 0, 0], 'carsh': [0, 0, 0], 'taxi':[0, 0] }\n",
        "        for element in ['driving', 'walking', 'transit']:\n",
        "            self.driver.get(\"https://www.google.com/maps/dir/?api=1&origin={}&destination={}&travelmode={}\".format((',').join(start.astype(str)), (',').join(end.astype(str)), str(element)))\n",
        "            if str(element) == \"driving\":\n",
        "                try:\n",
        "                    time_drive = self.driver.find_element_by_xpath('/html/body/jsl/div[3]/div[9]/div[8]/div/div[1]/div/div/div[5]/div[1]/div[2]/div[1]/div[1]/div[1]/span[1]')\n",
        "                    distance_drive = self.driver.find_element_by_xpath('/html/body/jsl/div[3]/div[9]/div[8]/div/div[1]/div/div/div[5]/div[1]/div[2]/div[1]/div[1]/div[2]/div')\n",
        "                    if type(time_drive) != None:\n",
        "                        time_drive = time_drive.text\n",
        "                        time_drive_split = time_drive.split()\n",
        "                        if time_drive != '':\n",
        "                            if len(time_drive_split) > 2:\n",
        "                                time_drive = int(time_drive_split[0]) * 60 + int(time_drive_split[-2])\n",
        "                            else:\n",
        "                                if time_drive_split[-1] != 'h':\n",
        "                                    time_drive = int(time_drive_split[0])\n",
        "                                else:\n",
        "                                    time_drive = 60 * int(time_drive_split[0])\n",
        "                        else:\n",
        "                            time_drive = inf\n",
        "                        self.utility_list['driving'][0] = time_drive\n",
        "                        self.utility_list['carsh'][0] = time_drive\n",
        "                        self.utility_list['taxi'][0] = time_drive\n",
        "                    else:\n",
        "                        self.utility_list['driving'][0] = inf\n",
        "                        self.utility_list['carsh'][0] = inf\n",
        "                        self.utility_list['taxi'][0] = inf\n",
        "                        distance_drive = 0\n",
        "                    if type(distance_drive) != None:\n",
        "                        distance_drive = distance_drive.text\n",
        "                        if distance_drive != '':\n",
        "                            distance_drive_list = distance_drive.replace(',', '.').split(' ')\n",
        "                            if distance_drive_list[-1] == 'km':\n",
        "                                distance_drive = float(distance_drive_list[0])\n",
        "                            else:\n",
        "                                distance_drive = float(distance_drive_list[0]) / 1000\n",
        "                        else:\n",
        "                            distance_drive = inf\n",
        "                        self.utility_list['driving'][1] = distance_drive\n",
        "                        self.utility_list['carsh'][1] = distance_drive\n",
        "                        self.utility_list['taxi'][1] = distance_drive\n",
        "                        distance_drive = distance_drive\n",
        "                    else:\n",
        "                        self.utility_list['driving'][1] = inf\n",
        "                        self.utility_list['carsh'][1] = inf\n",
        "                        self.utility_list['taxi'][1] = inf\n",
        "                except:\n",
        "                    self.utility_list['driving'][0] = inf\n",
        "                    self.utility_list['driving'][1] = inf\n",
        "                    self.utility_list['carsh'][0] = inf\n",
        "                    self.utility_list['carsh'][1] = inf\n",
        "                    self.utility_list['taxi'][0] = inf\n",
        "                    self.utility_list['taxi'][1] = inf\n",
        "            if element == 'walking':\n",
        "                try:\n",
        "                    time_walk = self.driver.find_element_by_xpath('/html/body/jsl/div[3]/div[9]/div[8]/div/div[1]/div/div/div[5]/div/div[2]/div[3]/div[1]/div[1]')\n",
        "                    if type(time_walk) != None:\n",
        "                        time_walk = time_walk.text\n",
        "                        time_walk_clean = ''\n",
        "                        time_walk_split = time_walk.split()\n",
        "                        if time_walk != '':\n",
        "                            if len(time_walk_split) > 2:\n",
        "                                time_walk = 60 * int(time_walk_split[0]) + int(time_walk_split[-2])\n",
        "                            else:\n",
        "                                if time_walk_split[-1] != 'h':\n",
        "                                    time_walk = int(time_walk_split[0])\n",
        "                                else:\n",
        "                                    time_walk = 60 * int(time_walk_split[0])\n",
        "                        else:\n",
        "                            time_walk = 0\n",
        "                        self.utility_list['walking'] = time_walk\n",
        "                    else:\n",
        "                        self.utility_list['walking'] = inf\n",
        "                except:\n",
        "                    self.utility_list['walking'] = inf\n",
        "            if element == 'transit':\n",
        "                distance_public = distance_drive\n",
        "                self.utility_list['public'][0] = float(distance_public)\n",
        "                try:\n",
        "                    price_public = self.driver.find_element_by_xpath('/html/body/jsl/div[3]/div[9]/div[8]/div/div[1]/div/div/div[7]/div[1]/div[2]/div[2]/div[3]/span[1]')\n",
        "                    if type(price_public) != None:\n",
        "                        if price_public.text != '':\n",
        "                            self.utility_list['public'][2] = 0.014 * float(price_public.text.replace(',', '.').split()[0])\n",
        "                        else:\n",
        "                            self.utility_list['public'][2] = 0.014 * 57\n",
        "                    else:\n",
        "                        self.utility_list['public'][2] = inf\n",
        "                except:\n",
        "                    self.utility_list['public'][2] = inf\n",
        "                try:    \n",
        "                    time_public = self.driver.find_element_by_xpath('/html/body/jsl/div[3]/div[9]/div[8]/div/div[1]/div/div/div[7]/div[1]/div[2]/div[2]/div[1]/div')\n",
        "                    if type(time_public) != None:\n",
        "                        time_public = time_public.text\n",
        "                        if time_public != '':\n",
        "                            time_public_split = time_public.split()\n",
        "                            if len(time_public_split) > 2:\n",
        "                                time_public = 60 * int(time_public_split[0]) + int(time_public_split[-2])\n",
        "                            else:\n",
        "                                if time_public_split[-1] != 'h':\n",
        "                                    time_public = int(time_public_split[0])\n",
        "                                else:\n",
        "                                    time_public = 60 * int(time_public_split[0])\n",
        "                        else:\n",
        "                            time_public = 0\n",
        "                        self.utility_list['public'][1] = time_public\n",
        "                    else:\n",
        "                        self.utility_list['public'][1] = inf\n",
        "                except:\n",
        "                    self.utility_list['public'][1] = inf\n",
        "                try:\n",
        "                    button = self.driver.find_element_by_xpath('//*[@id=\"section-directions-trip-details-msg-0\"]')\n",
        "                    button.click()\n",
        "                    try:\n",
        "                        number_of_changes = len(self.driver.find_elements_by_class_name('transit-logical-step-timeline'))\n",
        "                        walking_times = len(self.driver.find_elements_by_xpath(\"//*[contains(text(), 'Нужно идти пешком')]\"))\n",
        "                        n = int(abs(number_of_changes - (walking_times / 2)))\n",
        "                        self.utility_list['public'][3] = n\n",
        "                    except:\n",
        "                        self.utility_list['public'][3] = inf\n",
        "                    try:\n",
        "                        details = self.driver.find_elements_by_class_name('transit-step-details')\n",
        "                        clear = []\n",
        "                        for element in details:\n",
        "                            if 'останов' not in element.text:\n",
        "                                clear.append(element.text)\n",
        "                        digit_time = []\n",
        "                        time = []\n",
        "                        for element in clear:\n",
        "                            if element != '':\n",
        "                                element.strip()\n",
        "                                time.append(element.split(',')[0][1:])\n",
        "                        for element in time:\n",
        "                            element_split = element.split()\n",
        "                            if len(element_split) > 2:\n",
        "                                minutes = int(element_split[0]) * 60 + int(element_split[-2]) \n",
        "                            else:\n",
        "                              if element_split[-1] != 'h':\n",
        "                                  minutes = int(element_split[0])\n",
        "                              else:\n",
        "                                  minutes = 60 * int(element_split[0])\n",
        "                            digit_time.append(minutes)\n",
        "                        if len(digit_time) != 0:\n",
        "                            time_access = int(digit_time[0])\n",
        "                            time_egress = int(digit_time[-1])\n",
        "                        else:\n",
        "                            time_access = 0\n",
        "                            time_egress = 0\n",
        "                        self.utility_list['public'][4] = time_access\n",
        "                        self.utility_list['public'][5] = time_egress\n",
        "                    except:\n",
        "                        self.utility_list['public'][4] = inf\n",
        "                        self.utility_list['public'][5] = inf\n",
        "                except:\n",
        "                    self.utility_list['public'][4] = inf\n",
        "                    self.utility_list['public'][5] = inf\n",
        "                            \n",
        "                            \n",
        "    def nearest_carsharing(self, carsharing_dict, busy_dict, start):\n",
        "        x = {}\n",
        "        for key in carsharing_dict:\n",
        "            if busy_dict[key] != True:\n",
        "                x[key] = carsharing_dict[key]\n",
        "        delta = {}\n",
        "        for key in x:\n",
        "            delta[key] = (x[key][0] - start[0]) ** 2 + (x[key][1] - start[1]) ** 2\n",
        "        sorted_cars = {k: v for k, v in sorted(delta.items(), key=lambda item: item[1])}\n",
        "        self.best_car_id = 0\n",
        "        for element in sorted_cars:\n",
        "            self.best_car_id = element\n",
        "            break\n",
        "        car_position = x[self.best_car_id]\n",
        "        self.driver.get(\"https://www.google.com/maps/dir/?api=1&origin={}&destination={}&travelmode={}\".format((',').join(start.astype(str)), (',').join(car_position.astype(str)), 'walking'))\n",
        "        try:\n",
        "            time_access_carsharing = self.driver.find_element_by_xpath('/html/body/jsl/div[3]/div[9]/div[8]/div/div[1]/div/div/div[5]/div/div[2]/div[3]/div[1]/div[1]')\n",
        "            if type(time_access_carsharing) != None:\n",
        "                time_access_carsharing = time_access_carsharing.text\n",
        "                if time_access_carsharing != '':\n",
        "                  time_access_carsharing = time_access_carsharing.split()\n",
        "                  if len(time_access_carsharing) > 2:\n",
        "                      time_access = int(time_access_carsharing[0]) * 60 + int(time_access_carsharing[-2])\n",
        "                  else:\n",
        "                      if time_access_carsharing[-1] != 'h':\n",
        "                          time_access = int(time_access_carsharing[0])\n",
        "                      else:\n",
        "                          time_access = 60 * int(time_access_carsharing[0])\n",
        "                else:\n",
        "                    time_access = inf\n",
        "                self.utility_list['carsh'][2] = time_access\n",
        "            else:\n",
        "                self.utility_list['carsh'][2] = inf\n",
        "        except:\n",
        "            self.utility_list['carsh'][2] = inf\n",
        "    \n",
        "    \n",
        "    def second_optimization(self, carsharing_price_dict):\n",
        "        p = carsharing_price_dict[self.best_car_id][0]\n",
        "        p_access = carsharing_price_dict[self.best_car_id][1]\n",
        "        eps = 1e-6\n",
        "        car_utility = 0.827 - 0.067 * self.utility_list['driving'][0] - 0.126 * (((self.utility_list['driving'][1] / (40) + eps) ** (-0.4)) * 8.55)\n",
        "        carsh_utility = 0.827 - 0.067 * self.utility_list['carsh'][0] - 0.08 * self.utility_list['carsh'][2] - 0.126 * ((self.utility_list['carsh'][1] / 40 + eps) ** (-0.4)) * (float(p) * (1 / 0.83) + float(p_access) / (self.utility_list['carsh'][1] + eps)) * 0.014\n",
        "        taxi_access = np.random.randint(0, 10)\n",
        "        taxi_utility = 0.827 - 0.067 * self.utility_list['taxi'][0] - 0.08 * taxi_access - 0.126 * ((self.utility_list['taxi'][1] / 40 + eps) ** (-0.4)) * 0.014 * 44\n",
        "        walking_utility = 0.431 - 0.141 * self.utility_list['walking']\n",
        "        public_utility = -0.019 * self.utility_list['public'][1] - 0.08 * self.utility_list['public'][4] - 0.08 * self.utility_list['public'][5] -0.17 * self.utility_list['public'][3] - 0.126 * ((self.utility_list['public'][0] / 40 + eps) ** (-0.4)) * self.utility_list['public'][2]\n",
        "        if car_utility >= carsh_utility and car_utility >= taxi_utility and car_utility >= walking_utility and car_utility >= public_utility:\n",
        "            optimal = 'car'\n",
        "            optimal_time = self.utility_list['driving'][0]\n",
        "        elif carsh_utility >= car_utility and carsh_utility >= taxi_utility and carsh_utility >= walking_utility and carsh_utility >= public_utility:\n",
        "            optimal = 'carsharing'\n",
        "            optimal_time = self.utility_list['carsh'][0] + self.utility_list['carsh'][2]\n",
        "        elif taxi_utility >= car_utility and taxi_utility >= carsh_utility and taxi_utility >= walking_utility and taxi_utility >= public_utility:\n",
        "            optimal = 'taxi'\n",
        "            optimal_time = self.utility_list['taxi'][0] + taxi_access\n",
        "        elif walking_utility >= car_utility and walking_utility >= carsh_utility and walking_utility >= taxi_utility and walking_utility >= public_utility:\n",
        "            optimal = 'walking'\n",
        "            optimal_time = self.utility_list['walking']\n",
        "        elif public_utility >= walking_utility and public_utility >= car_utility and public_utility >= carsh_utility and public_utility >= taxi_utility:\n",
        "            optimal = 'public'\n",
        "            optimal_time = self.utility_list['public'][1] + self.utility_list['public'][4] + self.utility_list['public'][5]\n",
        "        print(optimal)\n",
        "        return optimal, optimal_time, self.best_car_id"
      ],
      "execution_count": 0,
      "outputs": []
    },
    {
      "cell_type": "code",
      "metadata": {
        "id": "nimZAF4oxQX_",
        "colab_type": "code",
        "colab": {}
      },
      "source": [
        "culture = culture[:, ::-1]"
      ],
      "execution_count": 0,
      "outputs": []
    },
    {
      "cell_type": "code",
      "metadata": {
        "id": "3GMeD3kaHmP1",
        "colab_type": "code",
        "colab": {}
      },
      "source": [
        "culture"
      ],
      "execution_count": 0,
      "outputs": []
    },
    {
      "cell_type": "code",
      "metadata": {
        "id": "PoEm92QbxQYD",
        "colab_type": "code",
        "colab": {}
      },
      "source": [
        "unis = unis[:, ::-1]"
      ],
      "execution_count": 0,
      "outputs": []
    },
    {
      "cell_type": "code",
      "metadata": {
        "id": "DzQTNkAyxQYV",
        "colab_type": "code",
        "colab": {}
      },
      "source": [
        "jobs = jobs[:, ::-1]"
      ],
      "execution_count": 0,
      "outputs": []
    },
    {
      "cell_type": "code",
      "metadata": {
        "id": "FfdQVbYGxQYY",
        "colab_type": "code",
        "colab": {}
      },
      "source": [
        "shops = shops[:, ::-1]"
      ],
      "execution_count": 0,
      "outputs": []
    },
    {
      "cell_type": "code",
      "metadata": {
        "id": "PDDqY9dmHi4s",
        "colab_type": "code",
        "colab": {}
      },
      "source": [
        "schools = schools[:, ::-1]"
      ],
      "execution_count": 0,
      "outputs": []
    },
    {
      "cell_type": "code",
      "metadata": {
        "id": "mYESV0JtHf1z",
        "colab_type": "code",
        "colab": {}
      },
      "source": [
        "home = home[:, ::-1]"
      ],
      "execution_count": 0,
      "outputs": []
    },
    {
      "cell_type": "code",
      "metadata": {
        "id": "iA-jS0rqJRzt",
        "colab_type": "code",
        "colab": {}
      },
      "source": [
        "people_init = people_init[:, ::-1]"
      ],
      "execution_count": 0,
      "outputs": []
    },
    {
      "cell_type": "code",
      "metadata": {
        "id": "J4FRDKuIxQYb",
        "colab_type": "code",
        "colab": {}
      },
      "source": [
        "result = []"
      ],
      "execution_count": 0,
      "outputs": []
    },
    {
      "cell_type": "code",
      "metadata": {
        "id": "P7Hkyim2YMS9",
        "colab_type": "code",
        "colab": {}
      },
      "source": [
        "busy_individual"
      ],
      "execution_count": 0,
      "outputs": []
    },
    {
      "cell_type": "code",
      "metadata": {
        "id": "ZbSXSWTsxQYg",
        "colab_type": "code",
        "colab": {}
      },
      "source": [
        "optimal = optimization()\n",
        "init = datetime.datetime(year = 2020, month = 5, day = 31, hour = 7, minute = 30)\n",
        "while True:\n",
        "    for i in range(1000):\n",
        "        # школы\n",
        "        if init >= schools_time[i]:\n",
        "            if not (np.isnan(schools[i])).any() and busy_individual[i] == False \\\n",
        "            and working[i] != True \\\n",
        "            and studying[i] != True and culturing[i] != True:\n",
        "                optimal.optimization(people_init[i], schools[i])\n",
        "                optimal.nearest_carsharing(carsharing_position, busy_carsharing, people_init[i])\n",
        "                optimal_result = optimal.second_optimization(carsharing_price_dict)\n",
        "                optimal_transport = optimal_result[0]\n",
        "                optimal_time = optimal_result[1]\n",
        "                optimal_carsharing_position = optimal_result[2]\n",
        "                result_log = [people_init[i], optimal_transport, init]\n",
        "                busy_individual[i] = True   \n",
        "                if optimal_transport == 'carsharing':\n",
        "                    carsharing_busy_time[optimal_carsharing_position] = optimal_time\n",
        "                    carsharing_position[optimal_carsharing_position] = schools[i]\n",
        "                    busy_carsharing[optimal_carsharing_position] = True\n",
        "                    result_log.append(carsharing_brand[optimal_carsharing_position])\n",
        "                people_init[i] = schools[i]\n",
        "                result.append(result_log)\n",
        "                individual_busy_time[i] = optimal_time\n",
        "                schools[i] = np.nan\n",
        "        # работа\n",
        "        if init >= jobs_start_time[i]:\n",
        "            if not ((np.isnan(jobs[i])).any()) \\\n",
        "            and (busy_individual[i] == False) \\\n",
        "            and (studying[i] != True) and (culturing[i] != True) and (working[i] != True):\n",
        "                optimal.optimization(people_init[i], jobs[i])\n",
        "                optimal.nearest_carsharing(carsharing_position, busy_carsharing, people_init[i])\n",
        "                optimal_result = optimal.second_optimization(carsharing_price_dict)\n",
        "                optimal_transport = optimal_result[0]\n",
        "                optimal_time = optimal_result[1]\n",
        "                result_log = [people_init[i], optimal_transport, init]\n",
        "                optimal_carsharing_position = optimal_result[2]\n",
        "                busy_individual[i] = True\n",
        "                working[i] = True\n",
        "                if optimal_transport == 'carsharing':\n",
        "                    carsharing_busy_time[optimal_carsharing_position] = optimal_time \n",
        "                    carsharing_position[optimal_carsharing_position] = jobs[i]\n",
        "                    busy_carsharing[optimal_carsharing_position] = True\n",
        "                    result_log.append(carsharing_brand[optimal_carsharing_position])\n",
        "                people_init[i] = jobs[i]\n",
        "                result.append(result_log)\n",
        "                individual_busy_time[i] = optimal_time\n",
        "                jobs[i][0] = np.array(np.nan)\n",
        "        # конец работы. Культура исполняется только при конце работы\n",
        "        if init >= jobs_end_time[i]:\n",
        "            working[i] = False\n",
        "            jobs[i][0] = np.nan\n",
        "        # Университеты\n",
        "        if init >= unis_start_time[i]:\n",
        "            if not ((np.isnan(unis[i])).any()) and (busy_individual[i] == False) \\\n",
        "            and working[i] == False and studying[i] == False and culturing[i] == False:\n",
        "                optimal.optimization(people_init[i], unis[i])\n",
        "                optimal.nearest_carsharing(carsharing_position, busy_carsharing, people_init[i])\n",
        "                optimal_result = optimal.second_optimization(carsharing_price_dict)\n",
        "                optimal_transport = optimal_result[0]\n",
        "                optimal_time = optimal_result[1]\n",
        "                optimal_carsharing_position = optimal_result[2] \n",
        "                result_log = [people_init[i], optimal_transport, init]\n",
        "                busy_individual[i] = True\n",
        "                studying[i] = True\n",
        "                if optimal_transport == 'carsharing':\n",
        "                    carsharing_busy_time[optimal_carsharing_position] = optimal_time\n",
        "                    carsharing_position[optimal_carsharing_position] = unis[i]\n",
        "                    busy_carsharing[optimal_carsharing_position] = True\n",
        "                    result_log.append(carsharing_brand[optimal_carsharing_position])\n",
        "                individual_busy_time[i] = optimal_time\n",
        "                people_init[i] = unis[i]\n",
        "                result.append(result_log)\n",
        "                unis[i][0] = np.nan\n",
        "        if init >= unis_end_time[i]:\n",
        "            studying[i] = False\n",
        "            unis[i][0] = np.nan\n",
        "        # культура\n",
        "        if init >= culture_start_time[i]:\n",
        "            if not (np.isnan(culture[i])).any() and working[i] == False and studying[i] == False \\\n",
        "            and busy_individual[i] == False and culturing[i] == False:\n",
        "                optimal.optimization(people_init[i], culture[i])\n",
        "                optimal.nearest_carsharing(carsharing_position, busy_carsharing, people_init[i])\n",
        "                optimal_result = optimal.second_optimization(carsharing_price_dict)\n",
        "                optimal_transport = optimal_result[0]\n",
        "                optimal_time = optimal_result[1]\n",
        "                culturing[i] = True\n",
        "                result_log = [people_init[i], optimal_transport, init]\n",
        "                optimal_carsharing_position = optimal_result[2]  \n",
        "                if optimal_transport == 'carsharing':\n",
        "                    carsharing_busy_time[optimal_carsharing_position] = optimal_time\n",
        "                    carsharing_position[optimal_carsharing_position] = culture[i]\n",
        "                    busy_carsharing[optimal_carsharing_position] = True\n",
        "                    result_log.append(carsharing_brand[optimal_carsharing_position])\n",
        "                individual_busy_time[i] = optimal_time\n",
        "                busy_individual[i] = True\n",
        "                result.append(result_log)\n",
        "                people_init[i] = culture[i]\n",
        "                culture[i][0] = np.nan\n",
        "        if init >= culture_end_time[i]:\n",
        "            culturing[i] = False \n",
        "            culture[i][0] = np.nan\n",
        "        # магазины\n",
        "        if not (np.isnan(shops[i])).any() and np.isnan(jobs[i]).any() \\\n",
        "            and np.isnan(culture[i]).any() \\\n",
        "            and np.isnan(schools[i]).any() and studying[i] == False \\\n",
        "            and busy_individual[i] == False \\\n",
        "            and working[i] == False \\\n",
        "            and culturing[i] == False:\n",
        "                optimal.optimization(people_init[i], shops[i])\n",
        "                optimal.nearest_carsharing(carsharing_position, busy_carsharing, people_init[i])\n",
        "                optimal_result = optimal.second_optimization(carsharing_price_dict)\n",
        "                optimal_transport = optimal_result[0]\n",
        "                optimal_time = optimal_result[1]\n",
        "                result_log = [people_init[i], optimal_transport, init]\n",
        "                optimal_carsharing_position = optimal_result[2] \n",
        "                busy_individual[i] = True\n",
        "                if optimal_transport == 'carsharing':\n",
        "                    carsharing_position[optimal_carsharing_position] = shops[i]\n",
        "                    carsharing_busy_time[optimal_carsharing_position] = optimal_time\n",
        "                    busy_carsharing[optimal_carsharing_position] = True\n",
        "                    result_log.append(carsharing_brand[optimal_carsharing_position])\n",
        "                individual_busy_time[i] = optimal_time\n",
        "                people_init[i] = shops[i]\n",
        "                result.append(result_log)\n",
        "                shops[i][0] = np.nan\n",
        "        # возвращение домой\n",
        "        if np.isnan(jobs[i]).any() and np.isnan(schools[i]).any() \\\n",
        "        and np.isnan(shops[i]).any() and np.isnan(culture[i]).any() \\\n",
        "        and working[i] ==  False and studying[i] == False and culturing[i] == False and busy_individual[i] == False:\n",
        "            if not np.isnan(home[i]).any():\n",
        "                optimal.optimization(people_init[i], home[i])\n",
        "                optimal.nearest_carsharing(carsharing_position, busy_carsharing, people_init[i])\n",
        "                optimal_result = optimal.second_optimization(carsharing_price_dict)\n",
        "                optimal_transport = optimal_result[0]\n",
        "                optimal_time = optimal_result[1]\n",
        "                result_log = [people_init[i], optimal_transport, init]               \n",
        "                optimal_carsharing_position = optimal_result[2] \n",
        "                busy_individual[i] = True\n",
        "                if optimal_transport == 'carsharing':\n",
        "                    carsharing_position[optimal_carsharing_position] = home[i]\n",
        "                    carsharing_busy_time[optimal_carsharing_position] = optimal_time\n",
        "                    busy_carsharing[optimal_carsharing_position] = True\n",
        "                    result_log.append(carsharing_brand[optimal_carsharing_position])\n",
        "                individual_busy_time[i] = optimal_time\n",
        "                people_init[i] = home[i]\n",
        "                result.append(result_log)\n",
        "                home[i][0] = np.nan\n",
        "        if individual_busy_time[i] <= 0:\n",
        "            busy_individual[i] = False\n",
        "        else:\n",
        "            busy_individual[i] -= 1\n",
        "        if carsharing_busy_time[i] <= 0:\n",
        "            busy_carsharing[i] = False\n",
        "        else:\n",
        "            carsharing_busy_time[i] -= 1\n",
        "    init += timedelta(minutes = 1)\n",
        "    print(init)\n",
        "    if init.hour == 23:\n",
        "        break\n",
        "    sleep(60)"
      ],
      "execution_count": 0,
      "outputs": []
    },
    {
      "cell_type": "code",
      "metadata": {
        "id": "5UqiQUi9MacG",
        "colab_type": "code",
        "colab": {}
      },
      "source": [
        "data_out = pd.DataFrame(result)"
      ],
      "execution_count": 0,
      "outputs": []
    },
    {
      "cell_type": "code",
      "metadata": {
        "id": "Wig2Ia4ILZhu",
        "colab_type": "code",
        "colab": {}
      },
      "source": [
        "data_out.to_excel('out.xlsx')"
      ],
      "execution_count": 0,
      "outputs": []
    }
  ]
}